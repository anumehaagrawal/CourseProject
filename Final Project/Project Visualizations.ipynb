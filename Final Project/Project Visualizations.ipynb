{
 "cells": [
  {
   "cell_type": "markdown",
   "metadata": {},
   "source": [
    "# Exploratory Data Analysis (EDA) on Stock Data"
   ]
  },
  {
   "cell_type": "code",
   "execution_count": 92,
   "metadata": {},
   "outputs": [],
   "source": [
    "import pandas as pd\n",
    "import matplotlib.pyplot as plt\n",
    "\n",
    "import requests\n",
    "from bs4 import BeautifulSoup\n",
    "import pandas as pd\n",
    "URL = \"https://money.cnn.com/data/hotstocks/index.html\"\n",
    "page = requests.get(URL)\n",
    "soup = BeautifulSoup(page.content, \"html.parser\")\n",
    "results = soup.find(class_=\"wsod_dataTable wsod_dataTableBigAlt\")\n",
    "df = pd.read_html(str(results))[0]\n",
    "df.to_csv('stocks.csv', index= False, header= True)"
   ]
  },
  {
   "cell_type": "code",
   "execution_count": 93,
   "metadata": {},
   "outputs": [
    {
     "data": {
      "text/html": [
       "<div>\n",
       "<style scoped>\n",
       "    .dataframe tbody tr th:only-of-type {\n",
       "        vertical-align: middle;\n",
       "    }\n",
       "\n",
       "    .dataframe tbody tr th {\n",
       "        vertical-align: top;\n",
       "    }\n",
       "\n",
       "    .dataframe thead th {\n",
       "        text-align: right;\n",
       "    }\n",
       "</style>\n",
       "<table border=\"1\" class=\"dataframe\">\n",
       "  <thead>\n",
       "    <tr style=\"text-align: right;\">\n",
       "      <th></th>\n",
       "      <th>Company</th>\n",
       "      <th>Price</th>\n",
       "      <th>Change</th>\n",
       "      <th>% Change</th>\n",
       "    </tr>\n",
       "  </thead>\n",
       "  <tbody>\n",
       "    <tr>\n",
       "      <th>0</th>\n",
       "      <td>F Ford Motor Co</td>\n",
       "      <td>19.36</td>\n",
       "      <td>-0.79</td>\n",
       "      <td>-3.92%</td>\n",
       "    </tr>\n",
       "    <tr>\n",
       "      <th>1</th>\n",
       "      <td>T AT&amp;T Inc</td>\n",
       "      <td>24.95</td>\n",
       "      <td>0.07</td>\n",
       "      <td>+0.28%</td>\n",
       "    </tr>\n",
       "    <tr>\n",
       "      <th>2</th>\n",
       "      <td>PFE Pfizer Inc</td>\n",
       "      <td>49.02</td>\n",
       "      <td>1.72</td>\n",
       "      <td>+3.64%</td>\n",
       "    </tr>\n",
       "    <tr>\n",
       "      <th>3</th>\n",
       "      <td>BAC Bank of America Corp</td>\n",
       "      <td>47.23</td>\n",
       "      <td>0.35</td>\n",
       "      <td>+0.75%</td>\n",
       "    </tr>\n",
       "    <tr>\n",
       "      <th>4</th>\n",
       "      <td>FCX Freeport-McMoRan Inc</td>\n",
       "      <td>37.52</td>\n",
       "      <td>-1.68</td>\n",
       "      <td>-4.29%</td>\n",
       "    </tr>\n",
       "    <tr>\n",
       "      <th>5</th>\n",
       "      <td>GM General Motors Co</td>\n",
       "      <td>59.27</td>\n",
       "      <td>0.65</td>\n",
       "      <td>+1.11%</td>\n",
       "    </tr>\n",
       "    <tr>\n",
       "      <th>6</th>\n",
       "      <td>CCL Carnival Corp</td>\n",
       "      <td>23.49</td>\n",
       "      <td>-0.68</td>\n",
       "      <td>-2.81%</td>\n",
       "    </tr>\n",
       "    <tr>\n",
       "      <th>7</th>\n",
       "      <td>XOM Exxon Mobil Corp</td>\n",
       "      <td>64.19</td>\n",
       "      <td>-2.17</td>\n",
       "      <td>-3.27%</td>\n",
       "    </tr>\n",
       "    <tr>\n",
       "      <th>8</th>\n",
       "      <td>WFC Wells Fargo &amp; Co</td>\n",
       "      <td>50.36</td>\n",
       "      <td>0.47</td>\n",
       "      <td>+0.94%</td>\n",
       "    </tr>\n",
       "    <tr>\n",
       "      <th>9</th>\n",
       "      <td>C Citigroup Inc</td>\n",
       "      <td>68.21</td>\n",
       "      <td>-0.24</td>\n",
       "      <td>-0.35%</td>\n",
       "    </tr>\n",
       "  </tbody>\n",
       "</table>\n",
       "</div>"
      ],
      "text/plain": [
       "                    Company  Price  Change % Change\n",
       "0           F Ford Motor Co  19.36   -0.79   -3.92%\n",
       "1                T AT&T Inc  24.95    0.07   +0.28%\n",
       "2            PFE Pfizer Inc  49.02    1.72   +3.64%\n",
       "3  BAC Bank of America Corp  47.23    0.35   +0.75%\n",
       "4  FCX Freeport-McMoRan Inc  37.52   -1.68   -4.29%\n",
       "5      GM General Motors Co  59.27    0.65   +1.11%\n",
       "6         CCL Carnival Corp  23.49   -0.68   -2.81%\n",
       "7      XOM Exxon Mobil Corp  64.19   -2.17   -3.27%\n",
       "8      WFC Wells Fargo & Co  50.36    0.47   +0.94%\n",
       "9           C Citigroup Inc  68.21   -0.24   -0.35%"
      ]
     },
     "execution_count": 93,
     "metadata": {},
     "output_type": "execute_result"
    }
   ],
   "source": [
    "df"
   ]
  },
  {
   "cell_type": "code",
   "execution_count": 94,
   "metadata": {},
   "outputs": [],
   "source": [
    "def change_percent_and_sort(df, col_name):\n",
    "    df[col_name] = df[col_name].str.replace(r'%', '')\n",
    "    df[col_name] = df[col_name].astype(float)\n",
    "    return df.sort_values([col_name], ascending = False)"
   ]
  },
  {
   "cell_type": "code",
   "execution_count": 95,
   "metadata": {},
   "outputs": [
    {
     "data": {
      "text/html": [
       "<div>\n",
       "<style scoped>\n",
       "    .dataframe tbody tr th:only-of-type {\n",
       "        vertical-align: middle;\n",
       "    }\n",
       "\n",
       "    .dataframe tbody tr th {\n",
       "        vertical-align: top;\n",
       "    }\n",
       "\n",
       "    .dataframe thead th {\n",
       "        text-align: right;\n",
       "    }\n",
       "</style>\n",
       "<table border=\"1\" class=\"dataframe\">\n",
       "  <thead>\n",
       "    <tr style=\"text-align: right;\">\n",
       "      <th></th>\n",
       "      <th>Company</th>\n",
       "      <th>Price</th>\n",
       "      <th>Change</th>\n",
       "      <th>PercentChange</th>\n",
       "    </tr>\n",
       "  </thead>\n",
       "  <tbody>\n",
       "    <tr>\n",
       "      <th>2</th>\n",
       "      <td>PFE Pfizer Inc</td>\n",
       "      <td>49.02</td>\n",
       "      <td>1.72</td>\n",
       "      <td>3.64</td>\n",
       "    </tr>\n",
       "    <tr>\n",
       "      <th>5</th>\n",
       "      <td>GM General Motors Co</td>\n",
       "      <td>59.27</td>\n",
       "      <td>0.65</td>\n",
       "      <td>1.11</td>\n",
       "    </tr>\n",
       "    <tr>\n",
       "      <th>8</th>\n",
       "      <td>WFC Wells Fargo &amp; Co</td>\n",
       "      <td>50.36</td>\n",
       "      <td>0.47</td>\n",
       "      <td>0.94</td>\n",
       "    </tr>\n",
       "    <tr>\n",
       "      <th>3</th>\n",
       "      <td>BAC Bank of America Corp</td>\n",
       "      <td>47.23</td>\n",
       "      <td>0.35</td>\n",
       "      <td>0.75</td>\n",
       "    </tr>\n",
       "    <tr>\n",
       "      <th>1</th>\n",
       "      <td>T AT&amp;T Inc</td>\n",
       "      <td>24.95</td>\n",
       "      <td>0.07</td>\n",
       "      <td>0.28</td>\n",
       "    </tr>\n",
       "    <tr>\n",
       "      <th>9</th>\n",
       "      <td>C Citigroup Inc</td>\n",
       "      <td>68.21</td>\n",
       "      <td>-0.24</td>\n",
       "      <td>-0.35</td>\n",
       "    </tr>\n",
       "    <tr>\n",
       "      <th>6</th>\n",
       "      <td>CCL Carnival Corp</td>\n",
       "      <td>23.49</td>\n",
       "      <td>-0.68</td>\n",
       "      <td>-2.81</td>\n",
       "    </tr>\n",
       "    <tr>\n",
       "      <th>7</th>\n",
       "      <td>XOM Exxon Mobil Corp</td>\n",
       "      <td>64.19</td>\n",
       "      <td>-2.17</td>\n",
       "      <td>-3.27</td>\n",
       "    </tr>\n",
       "    <tr>\n",
       "      <th>0</th>\n",
       "      <td>F Ford Motor Co</td>\n",
       "      <td>19.36</td>\n",
       "      <td>-0.79</td>\n",
       "      <td>-3.92</td>\n",
       "    </tr>\n",
       "    <tr>\n",
       "      <th>4</th>\n",
       "      <td>FCX Freeport-McMoRan Inc</td>\n",
       "      <td>37.52</td>\n",
       "      <td>-1.68</td>\n",
       "      <td>-4.29</td>\n",
       "    </tr>\n",
       "  </tbody>\n",
       "</table>\n",
       "</div>"
      ],
      "text/plain": [
       "                    Company  Price  Change  PercentChange\n",
       "2            PFE Pfizer Inc  49.02    1.72           3.64\n",
       "5      GM General Motors Co  59.27    0.65           1.11\n",
       "8      WFC Wells Fargo & Co  50.36    0.47           0.94\n",
       "3  BAC Bank of America Corp  47.23    0.35           0.75\n",
       "1                T AT&T Inc  24.95    0.07           0.28\n",
       "9           C Citigroup Inc  68.21   -0.24          -0.35\n",
       "6         CCL Carnival Corp  23.49   -0.68          -2.81\n",
       "7      XOM Exxon Mobil Corp  64.19   -2.17          -3.27\n",
       "0           F Ford Motor Co  19.36   -0.79          -3.92\n",
       "4  FCX Freeport-McMoRan Inc  37.52   -1.68          -4.29"
      ]
     },
     "execution_count": 95,
     "metadata": {},
     "output_type": "execute_result"
    }
   ],
   "source": [
    "df_sorted = change_percent_and_sort(df, '%\\xa0Change')\n",
    "df_sorted = df_sorted.rename(columns={'%\\xa0Change': 'PercentChange'})\n",
    "df_sorted"
   ]
  },
  {
   "cell_type": "code",
   "execution_count": 96,
   "metadata": {},
   "outputs": [
    {
     "data": {
      "text/plain": [
       "<matplotlib.collections.PathCollection at 0x10fdf98e0>"
      ]
     },
     "execution_count": 96,
     "metadata": {},
     "output_type": "execute_result"
    },
    {
     "data": {
      "image/png": "[encoded data removed]",
      "text/plain": [
       "<Figure size 432x288 with 1 Axes>"
      ]
     },
     "metadata": {
      "needs_background": "light"
     },
     "output_type": "display_data"
    }
   ],
   "source": [
    "plt.scatter(df_sorted.Price, df_sorted.PercentChange)"
   ]
  },
  {
   "cell_type": "code",
   "execution_count": 97,
   "metadata": {},
   "outputs": [
    {
     "data": {
      "image/png": "[encoded data removed]",
      "text/plain": [
       "<Figure size 432x288 with 1 Axes>"
      ]
     },
     "metadata": {
      "needs_background": "light"
     },
     "output_type": "display_data"
    }
   ],
   "source": [
    "fig = plt.figure()\n",
    "ax = fig.add_axes([0,0,1,1])\n",
    "ax.bar(df_sorted['Company'],df_sorted['PercentChange'])\n",
    "plt.xticks(rotation = 45) # Rotates X-Axis Ticks by 45-degrees\n",
    "plt.show()"
   ]
  },
  {
   "cell_type": "code",
   "execution_count": 98,
   "metadata": {},
   "outputs": [],
   "source": [
    "#pip install lxml"
   ]
  },
  {
   "cell_type": "code",
   "execution_count": 99,
   "metadata": {},
   "outputs": [],
   "source": [
    "import requests\n",
    "from bs4 import BeautifulSoup\n",
    "import pandas as pd\n",
    "URL = \"https://money.cnn.com/data/hotstocks/index.html\"\n",
    "page = requests.get(URL)\n",
    "soup = BeautifulSoup(page.content, \"html.parser\")\n",
    "results = soup.find_all(class_=\"wsod_dataTable wsod_dataTableBigAlt\")[1]\n",
    "gain_df = pd.read_html(str(results))[0]\n",
    "gain_df.to_csv('gain_stocks.csv', index= False, header= True)"
   ]
  },
  {
   "cell_type": "code",
   "execution_count": 100,
   "metadata": {},
   "outputs": [
    {
     "data": {
      "text/html": [
       "<div>\n",
       "<style scoped>\n",
       "    .dataframe tbody tr th:only-of-type {\n",
       "        vertical-align: middle;\n",
       "    }\n",
       "\n",
       "    .dataframe tbody tr th {\n",
       "        vertical-align: top;\n",
       "    }\n",
       "\n",
       "    .dataframe thead th {\n",
       "        text-align: right;\n",
       "    }\n",
       "</style>\n",
       "<table border=\"1\" class=\"dataframe\">\n",
       "  <thead>\n",
       "    <tr style=\"text-align: right;\">\n",
       "      <th></th>\n",
       "      <th>Company</th>\n",
       "      <th>Price</th>\n",
       "      <th>Change</th>\n",
       "      <th>% Change</th>\n",
       "    </tr>\n",
       "  </thead>\n",
       "  <tbody>\n",
       "    <tr>\n",
       "      <th>0</th>\n",
       "      <td>MA Mastercard Inc</td>\n",
       "      <td>357.94</td>\n",
       "      <td>13.29</td>\n",
       "      <td>+3.86%</td>\n",
       "    </tr>\n",
       "    <tr>\n",
       "      <th>1</th>\n",
       "      <td>VTR Ventas Inc</td>\n",
       "      <td>54.75</td>\n",
       "      <td>1.93</td>\n",
       "      <td>+3.65%</td>\n",
       "    </tr>\n",
       "    <tr>\n",
       "      <th>2</th>\n",
       "      <td>PFE Pfizer Inc</td>\n",
       "      <td>49.02</td>\n",
       "      <td>1.72</td>\n",
       "      <td>+3.64%</td>\n",
       "    </tr>\n",
       "    <tr>\n",
       "      <th>3</th>\n",
       "      <td>WU Western Union Co</td>\n",
       "      <td>18.55</td>\n",
       "      <td>0.50</td>\n",
       "      <td>+2.77%</td>\n",
       "    </tr>\n",
       "    <tr>\n",
       "      <th>4</th>\n",
       "      <td>LH Laboratory Corporation of America H...</td>\n",
       "      <td>283.84</td>\n",
       "      <td>7.29</td>\n",
       "      <td>+2.64%</td>\n",
       "    </tr>\n",
       "    <tr>\n",
       "      <th>5</th>\n",
       "      <td>FIS Fidelity National Information Servi...</td>\n",
       "      <td>118.39</td>\n",
       "      <td>2.92</td>\n",
       "      <td>+2.53%</td>\n",
       "    </tr>\n",
       "    <tr>\n",
       "      <th>6</th>\n",
       "      <td>NEM Newmont Corporation</td>\n",
       "      <td>58.17</td>\n",
       "      <td>1.42</td>\n",
       "      <td>+2.50%</td>\n",
       "    </tr>\n",
       "    <tr>\n",
       "      <th>7</th>\n",
       "      <td>CTVA Corteva Inc</td>\n",
       "      <td>47.68</td>\n",
       "      <td>1.14</td>\n",
       "      <td>+2.45%</td>\n",
       "    </tr>\n",
       "    <tr>\n",
       "      <th>8</th>\n",
       "      <td>JCI Johnson Controls International PLC</td>\n",
       "      <td>76.15</td>\n",
       "      <td>1.68</td>\n",
       "      <td>+2.26%</td>\n",
       "    </tr>\n",
       "    <tr>\n",
       "      <th>9</th>\n",
       "      <td>K Kellogg Co</td>\n",
       "      <td>63.52</td>\n",
       "      <td>1.27</td>\n",
       "      <td>+2.04%</td>\n",
       "    </tr>\n",
       "  </tbody>\n",
       "</table>\n",
       "</div>"
      ],
      "text/plain": [
       "                                      Company   Price  Change % Change\n",
       "0                           MA Mastercard Inc  357.94   13.29   +3.86%\n",
       "1                              VTR Ventas Inc   54.75    1.93   +3.65%\n",
       "2                              PFE Pfizer Inc   49.02    1.72   +3.64%\n",
       "3                         WU Western Union Co   18.55    0.50   +2.77%\n",
       "4   LH Laboratory Corporation of America H...  283.84    7.29   +2.64%\n",
       "5  FIS Fidelity National Information Servi...  118.39    2.92   +2.53%\n",
       "6                     NEM Newmont Corporation   58.17    1.42   +2.50%\n",
       "7                            CTVA Corteva Inc   47.68    1.14   +2.45%\n",
       "8      JCI Johnson Controls International PLC   76.15    1.68   +2.26%\n",
       "9                                K Kellogg Co   63.52    1.27   +2.04%"
      ]
     },
     "execution_count": 100,
     "metadata": {},
     "output_type": "execute_result"
    }
   ],
   "source": [
    "gain_df"
   ]
  },
  {
   "cell_type": "code",
   "execution_count": 101,
   "metadata": {},
   "outputs": [
    {
     "data": {
      "text/html": [
       "<div>\n",
       "<style scoped>\n",
       "    .dataframe tbody tr th:only-of-type {\n",
       "        vertical-align: middle;\n",
       "    }\n",
       "\n",
       "    .dataframe tbody tr th {\n",
       "        vertical-align: top;\n",
       "    }\n",
       "\n",
       "    .dataframe thead th {\n",
       "        text-align: right;\n",
       "    }\n",
       "</style>\n",
       "<table border=\"1\" class=\"dataframe\">\n",
       "  <thead>\n",
       "    <tr style=\"text-align: right;\">\n",
       "      <th></th>\n",
       "      <th>Company</th>\n",
       "      <th>Price</th>\n",
       "      <th>Change</th>\n",
       "      <th>PercentChange</th>\n",
       "    </tr>\n",
       "  </thead>\n",
       "  <tbody>\n",
       "    <tr>\n",
       "      <th>0</th>\n",
       "      <td>MA Mastercard Inc</td>\n",
       "      <td>357.94</td>\n",
       "      <td>13.29</td>\n",
       "      <td>3.86</td>\n",
       "    </tr>\n",
       "    <tr>\n",
       "      <th>1</th>\n",
       "      <td>VTR Ventas Inc</td>\n",
       "      <td>54.75</td>\n",
       "      <td>1.93</td>\n",
       "      <td>3.65</td>\n",
       "    </tr>\n",
       "    <tr>\n",
       "      <th>2</th>\n",
       "      <td>PFE Pfizer Inc</td>\n",
       "      <td>49.02</td>\n",
       "      <td>1.72</td>\n",
       "      <td>3.64</td>\n",
       "    </tr>\n",
       "    <tr>\n",
       "      <th>3</th>\n",
       "      <td>WU Western Union Co</td>\n",
       "      <td>18.55</td>\n",
       "      <td>0.50</td>\n",
       "      <td>2.77</td>\n",
       "    </tr>\n",
       "    <tr>\n",
       "      <th>4</th>\n",
       "      <td>LH Laboratory Corporation of America H...</td>\n",
       "      <td>283.84</td>\n",
       "      <td>7.29</td>\n",
       "      <td>2.64</td>\n",
       "    </tr>\n",
       "    <tr>\n",
       "      <th>5</th>\n",
       "      <td>FIS Fidelity National Information Servi...</td>\n",
       "      <td>118.39</td>\n",
       "      <td>2.92</td>\n",
       "      <td>2.53</td>\n",
       "    </tr>\n",
       "    <tr>\n",
       "      <th>6</th>\n",
       "      <td>NEM Newmont Corporation</td>\n",
       "      <td>58.17</td>\n",
       "      <td>1.42</td>\n",
       "      <td>2.50</td>\n",
       "    </tr>\n",
       "    <tr>\n",
       "      <th>7</th>\n",
       "      <td>CTVA Corteva Inc</td>\n",
       "      <td>47.68</td>\n",
       "      <td>1.14</td>\n",
       "      <td>2.45</td>\n",
       "    </tr>\n",
       "    <tr>\n",
       "      <th>8</th>\n",
       "      <td>JCI Johnson Controls International PLC</td>\n",
       "      <td>76.15</td>\n",
       "      <td>1.68</td>\n",
       "      <td>2.26</td>\n",
       "    </tr>\n",
       "    <tr>\n",
       "      <th>9</th>\n",
       "      <td>K Kellogg Co</td>\n",
       "      <td>63.52</td>\n",
       "      <td>1.27</td>\n",
       "      <td>2.04</td>\n",
       "    </tr>\n",
       "  </tbody>\n",
       "</table>\n",
       "</div>"
      ],
      "text/plain": [
       "                                      Company   Price  Change  PercentChange\n",
       "0                           MA Mastercard Inc  357.94   13.29           3.86\n",
       "1                              VTR Ventas Inc   54.75    1.93           3.65\n",
       "2                              PFE Pfizer Inc   49.02    1.72           3.64\n",
       "3                         WU Western Union Co   18.55    0.50           2.77\n",
       "4   LH Laboratory Corporation of America H...  283.84    7.29           2.64\n",
       "5  FIS Fidelity National Information Servi...  118.39    2.92           2.53\n",
       "6                     NEM Newmont Corporation   58.17    1.42           2.50\n",
       "7                            CTVA Corteva Inc   47.68    1.14           2.45\n",
       "8      JCI Johnson Controls International PLC   76.15    1.68           2.26\n",
       "9                                K Kellogg Co   63.52    1.27           2.04"
      ]
     },
     "execution_count": 101,
     "metadata": {},
     "output_type": "execute_result"
    }
   ],
   "source": [
    "gain_df = change_percent_and_sort(gain_df, '%\\xa0Change')\n",
    "gain_df = gain_df.rename(columns={'%\\xa0Change': 'PercentChange'})\n",
    "gain_df"
   ]
  },
  {
   "cell_type": "code",
   "execution_count": 103,
   "metadata": {},
   "outputs": [
    {
     "data": {
      "text/plain": [
       "<matplotlib.collections.PathCollection at 0x10fd8b820>"
      ]
     },
     "execution_count": 103,
     "metadata": {},
     "output_type": "execute_result"
    },
    {
     "data": {
      "image/png": "[encoded data removed]",
      "text/plain": [
       "<Figure size 432x288 with 1 Axes>"
      ]
     },
     "metadata": {
      "needs_background": "light"
     },
     "output_type": "display_data"
    }
   ],
   "source": [
    "plt.scatter(gain_df.Price, gain_df.PercentChange)"
   ]
  },
  {
   "cell_type": "markdown",
   "metadata": {},
   "source": [
    "# Sentiment Analysis"
   ]
  },
  {
   "cell_type": "code",
   "execution_count": 98,
   "metadata": {},
   "outputs": [
    {
     "data": {
      "text/html": [
       "<div>\n",
       "<style scoped>\n",
       "    .dataframe tbody tr th:only-of-type {\n",
       "        vertical-align: middle;\n",
       "    }\n",
       "\n",
       "    .dataframe tbody tr th {\n",
       "        vertical-align: top;\n",
       "    }\n",
       "\n",
       "    .dataframe thead th {\n",
       "        text-align: right;\n",
       "    }\n",
       "</style>\n",
       "<table border=\"1\" class=\"dataframe\">\n",
       "  <thead>\n",
       "    <tr style=\"text-align: right;\">\n",
       "      <th></th>\n",
       "      <th>Company</th>\n",
       "      <th>Price</th>\n",
       "      <th>Change</th>\n",
       "      <th>PercentChange</th>\n",
       "    </tr>\n",
       "  </thead>\n",
       "  <tbody>\n",
       "    <tr>\n",
       "      <th>5</th>\n",
       "      <td>GE General Electric Co</td>\n",
       "      <td>111.29</td>\n",
       "      <td>2.87</td>\n",
       "      <td>2.65</td>\n",
       "    </tr>\n",
       "    <tr>\n",
       "      <th>7</th>\n",
       "      <td>XOM Exxon Mobil Corp</td>\n",
       "      <td>65.48</td>\n",
       "      <td>0.00</td>\n",
       "      <td>0.00</td>\n",
       "    </tr>\n",
       "    <tr>\n",
       "      <th>0</th>\n",
       "      <td>F Ford Motor Co</td>\n",
       "      <td>20.12</td>\n",
       "      <td>-0.03</td>\n",
       "      <td>-0.15</td>\n",
       "    </tr>\n",
       "    <tr>\n",
       "      <th>9</th>\n",
       "      <td>FCX Freeport-McMoRan Inc</td>\n",
       "      <td>39.20</td>\n",
       "      <td>-0.23</td>\n",
       "      <td>-0.58</td>\n",
       "    </tr>\n",
       "    <tr>\n",
       "      <th>8</th>\n",
       "      <td>C Citigroup Inc</td>\n",
       "      <td>67.99</td>\n",
       "      <td>-0.46</td>\n",
       "      <td>-0.67</td>\n",
       "    </tr>\n",
       "  </tbody>\n",
       "</table>\n",
       "</div>"
      ],
      "text/plain": [
       "                    Company   Price  Change  PercentChange\n",
       "5    GE General Electric Co  111.29    2.87           2.65\n",
       "7      XOM Exxon Mobil Corp   65.48    0.00           0.00\n",
       "0           F Ford Motor Co   20.12   -0.03          -0.15\n",
       "9  FCX Freeport-McMoRan Inc   39.20   -0.23          -0.58\n",
       "8           C Citigroup Inc   67.99   -0.46          -0.67"
      ]
     },
     "execution_count": 98,
     "metadata": {},
     "output_type": "execute_result"
    }
   ],
   "source": [
    "#sentiment analysis. \n",
    "import numpy as np\n",
    "from sklearn.preprocessing import StandardScaler\n",
    "\n",
    "stocks = df_sorted\n",
    "stocks.head(5)"
   ]
  },
  {
   "cell_type": "code",
   "execution_count": 139,
   "metadata": {},
   "outputs": [],
   "source": [
    "# use this website to scrape: https://money.cnn.com/data/markets/\n",
    "# Import libraries\n",
    "from urllib.request import urlopen, Request\n",
    "from bs4 import BeautifulSoup\n",
    "import os\n",
    "import pandas as pd\n",
    "import matplotlib.pyplot as plt\n",
    "%matplotlib inline\n",
    "# NLTK VADER for sentiment analysis\n",
    "from nltk.sentiment.vader import SentimentIntensityAnalyzer\n",
    "\n",
    "url = 'https://money.cnn.com/data/markets/'"
   ]
  },
  {
   "cell_type": "code",
   "execution_count": 178,
   "metadata": {},
   "outputs": [
    {
     "data": {
      "text/plain": [
       "(['These are the stocks Covid-19 is impacting the most -- and the least',\n",
       "  \"Rivian is America's biggest IPO since Facebook\",\n",
       "  'Move over, bitcoin. Ether is back and nipping at your heels',\n",
       "  'This new ETF is betting against Cathie Wood and Ark',\n",
       "  \"Evergrande's billionaire founder has been bailing out the business. That can't continue\",\n",
       "  'GE is splitting into three companies'],\n",
       " ['https://cnn.com/business/markets/coronavirus',\n",
       "  'https://www.cnn.com/2021/11/10/investing/premarket-stocks-trading/index.html',\n",
       "  'https://www.cnn.com/2021/11/10/investing/ethereum-bitcoin-cryptocurrencies/index.html',\n",
       "  'https://www.cnn.com/2021/11/10/investing/short-cathie-wood-ark-etf/index.html',\n",
       "  'https://www.cnn.com/2021/11/09/investing/china-property-crisis-evergrande-bail-out-mic-intl-hnk/index.html',\n",
       "  'https://www.cnn.com/2021/11/09/investing/ge-split/index.html'])"
      ]
     },
     "execution_count": 178,
     "metadata": {},
     "output_type": "execute_result"
    }
   ],
   "source": [
    "#store date, time and news headlines \n",
    "\n",
    "req = Request(url)\n",
    "response = urlopen(req)    \n",
    "html = BeautifulSoup(response)\n",
    "html = html.find(class_=\"column right-column\")\n",
    "html = html.find(class_=\"module\")\n",
    "link_html = html.find_all(class_=\"summary-hed\")\n",
    "\n",
    "links = []\n",
    "for link_info in link_html:\n",
    "    links.append(link_info['href'])\n",
    "    #print(link_html[0]['href'])\n",
    "    \n",
    "html = html.find_all(class_=\"thumb-caption\")\n",
    "\n",
    "headlines = [] \n",
    "for headline in html:\n",
    "    headlines.append(headline.text.strip())\n",
    "first = html[0].text.strip()\n",
    "\n",
    "\n",
    "headlines, links"
   ]
  },
  {
   "cell_type": "code",
   "execution_count": 300,
   "metadata": {},
   "outputs": [
    {
     "data": {
      "text/plain": [
       "(['November 10, 2021',\n",
       "  'November 10, 2021',\n",
       "  'November 10, 2021',\n",
       "  'November 10, 2021',\n",
       "  'November 10, 2021',\n",
       "  'November 9, 2021'],\n",
       " ['06:00 PM', '4:20 PM', '1:10 PM', '9:39 AM', '2:26 AM', '3:24 PM'])"
      ]
     },
     "execution_count": 300,
     "metadata": {},
     "output_type": "execute_result"
    }
   ],
   "source": [
    "#click on each headline from links array to get date and time\n",
    "# import calendar \n",
    "import re\n",
    "from datetime import datetime\n",
    "\n",
    "dates = []\n",
    "times = []\n",
    "\n",
    "for link in links:\n",
    "    req = Request(link)\n",
    "    response = urlopen(req)    \n",
    "    html = BeautifulSoup(response)\n",
    "    if html.find(class_=\"update-time\"):\n",
    "        time_text = html.find(class_=\"update-time\").text.strip()\n",
    "        time = re.search('\\d+:\\d+\\s(A|P)M', time_text)[0]\n",
    "        times.append(time)\n",
    "        date = re.search('(January|February|March|April|May|June|July|August|September|October|November|December).*', time_text)[0]\n",
    "        dates.append(date)\n",
    "    else:\n",
    "        time = datetime.now().strftime(\"%I:%M %p\")\n",
    "        times.append(time)\n",
    "        date = datetime.now().strftime(\"%B %d, %Y\")\n",
    "        dates.append(date)\n",
    "\n",
    "dates, times        "
   ]
  },
  {
   "cell_type": "code",
   "execution_count": 305,
   "metadata": {},
   "outputs": [
    {
     "data": {
      "text/plain": [
       "(6,\n",
       " 6,\n",
       " 6,\n",
       " array([['These are the stocks Covid-19 is impacting the most -- and the least',\n",
       "         \"Rivian is America's biggest IPO since Facebook\",\n",
       "         'Move over, bitcoin. Ether is back and nipping at your heels',\n",
       "         'This new ETF is betting against Cathie Wood and Ark',\n",
       "         \"Evergrande's billionaire founder has been bailing out the business. That can't continue\",\n",
       "         'GE is splitting into three companies'],\n",
       "        ['November 10, 2021', 'November 10, 2021', 'November 10, 2021',\n",
       "         'November 10, 2021', 'November 10, 2021', 'November 9, 2021'],\n",
       "        ['06:00 PM', '4:20 PM', '1:10 PM', '9:39 AM', '2:26 AM',\n",
       "         '3:24 PM']], dtype='<U87'))"
      ]
     },
     "execution_count": 305,
     "metadata": {},
     "output_type": "execute_result"
    }
   ],
   "source": [
    "len(headlines), len(dates), len(times), data"
   ]
  },
  {
   "cell_type": "code",
   "execution_count": 318,
   "metadata": {},
   "outputs": [
    {
     "data": {
      "text/html": [
       "<div>\n",
       "<style scoped>\n",
       "    .dataframe tbody tr th:only-of-type {\n",
       "        vertical-align: middle;\n",
       "    }\n",
       "\n",
       "    .dataframe tbody tr th {\n",
       "        vertical-align: top;\n",
       "    }\n",
       "\n",
       "    .dataframe thead th {\n",
       "        text-align: right;\n",
       "    }\n",
       "</style>\n",
       "<table border=\"1\" class=\"dataframe\">\n",
       "  <thead>\n",
       "    <tr style=\"text-align: right;\">\n",
       "      <th></th>\n",
       "      <th>Headline</th>\n",
       "      <th>Date</th>\n",
       "      <th>Time</th>\n",
       "    </tr>\n",
       "  </thead>\n",
       "  <tbody>\n",
       "    <tr>\n",
       "      <th>0</th>\n",
       "      <td>These are the stocks Covid-19 is impacting the...</td>\n",
       "      <td>November 10, 2021</td>\n",
       "      <td>06:00 PM</td>\n",
       "    </tr>\n",
       "    <tr>\n",
       "      <th>1</th>\n",
       "      <td>Rivian is America's biggest IPO since Facebook</td>\n",
       "      <td>November 10, 2021</td>\n",
       "      <td>4:20 PM</td>\n",
       "    </tr>\n",
       "    <tr>\n",
       "      <th>2</th>\n",
       "      <td>Move over, bitcoin. Ether is back and nipping ...</td>\n",
       "      <td>November 10, 2021</td>\n",
       "      <td>1:10 PM</td>\n",
       "    </tr>\n",
       "    <tr>\n",
       "      <th>3</th>\n",
       "      <td>This new ETF is betting against Cathie Wood an...</td>\n",
       "      <td>November 10, 2021</td>\n",
       "      <td>9:39 AM</td>\n",
       "    </tr>\n",
       "    <tr>\n",
       "      <th>4</th>\n",
       "      <td>Evergrande's billionaire founder has been bail...</td>\n",
       "      <td>November 10, 2021</td>\n",
       "      <td>2:26 AM</td>\n",
       "    </tr>\n",
       "    <tr>\n",
       "      <th>5</th>\n",
       "      <td>GE is splitting into three companies</td>\n",
       "      <td>November 9, 2021</td>\n",
       "      <td>3:24 PM</td>\n",
       "    </tr>\n",
       "  </tbody>\n",
       "</table>\n",
       "</div>"
      ],
      "text/plain": [
       "                                            Headline               Date  \\\n",
       "0  These are the stocks Covid-19 is impacting the...  November 10, 2021   \n",
       "1     Rivian is America's biggest IPO since Facebook  November 10, 2021   \n",
       "2  Move over, bitcoin. Ether is back and nipping ...  November 10, 2021   \n",
       "3  This new ETF is betting against Cathie Wood an...  November 10, 2021   \n",
       "4  Evergrande's billionaire founder has been bail...  November 10, 2021   \n",
       "5               GE is splitting into three companies   November 9, 2021   \n",
       "\n",
       "       Time  \n",
       "0  06:00 PM  \n",
       "1   4:20 PM  \n",
       "2   1:10 PM  \n",
       "3   9:39 AM  \n",
       "4   2:26 AM  \n",
       "5   3:24 PM  "
      ]
     },
     "execution_count": 318,
     "metadata": {},
     "output_type": "execute_result"
    }
   ],
   "source": [
    "data = {'Headline': headlines, 'Date': dates, 'Time': times}\n",
    "parsed_stocks = pd.DataFrame(data)\n",
    "parsed_stocks"
   ]
  },
  {
   "cell_type": "code",
   "execution_count": 319,
   "metadata": {},
   "outputs": [
    {
     "data": {
      "text/plain": [
       "[{'neg': 0.0,\n",
       "  'neu': 1.0,\n",
       "  'pos': 0.0,\n",
       "  'compound': 0.0,\n",
       "  'headline': 'These are the stocks Covid-19 is impacting the most -- and the least'},\n",
       " {'neg': 0.0,\n",
       "  'neu': 1.0,\n",
       "  'pos': 0.0,\n",
       "  'compound': 0.0,\n",
       "  'headline': \"Rivian is America's biggest IPO since Facebook\"},\n",
       " {'neg': 0.0,\n",
       "  'neu': 1.0,\n",
       "  'pos': 0.0,\n",
       "  'compound': 0.0,\n",
       "  'headline': 'Move over, bitcoin. Ether is back and nipping at your heels'},\n",
       " {'neg': 0.0,\n",
       "  'neu': 1.0,\n",
       "  'pos': 0.0,\n",
       "  'compound': 0.0,\n",
       "  'headline': 'This new ETF is betting against Cathie Wood and Ark'},\n",
       " {'neg': 0.0,\n",
       "  'neu': 1.0,\n",
       "  'pos': 0.0,\n",
       "  'compound': 0.0,\n",
       "  'headline': \"Evergrande's billionaire founder has been bailing out the business. That can't continue\"},\n",
       " {'neg': 0.0,\n",
       "  'neu': 1.0,\n",
       "  'pos': 0.0,\n",
       "  'compound': 0.0,\n",
       "  'headline': 'GE is splitting into three companies'}]"
      ]
     },
     "execution_count": 319,
     "metadata": {},
     "output_type": "execute_result"
    }
   ],
   "source": [
    "# analyze_sentiment = SentimentIntensityAnalyzer()\n",
    "\n",
    "# scores = parsed_stocks['Headline'].apply(vader.polarity_scores).tolist()\n",
    "# scores_df = pd.DataFrame(scores)\n",
    "results = []\n",
    "\n",
    "for headline in parsed_stocks['Headline']:\n",
    "    polarity_score = SentimentIntensityAnalyzer().polarity_scores(headline)\n",
    "    polarity_score['headline'] = headline\n",
    "    results.append(polarity_score)\n",
    "\n",
    "results"
   ]
  },
  {
   "cell_type": "code",
   "execution_count": 321,
   "metadata": {},
   "outputs": [
    {
     "data": {
      "text/html": [
       "<div>\n",
       "<style scoped>\n",
       "    .dataframe tbody tr th:only-of-type {\n",
       "        vertical-align: middle;\n",
       "    }\n",
       "\n",
       "    .dataframe tbody tr th {\n",
       "        vertical-align: top;\n",
       "    }\n",
       "\n",
       "    .dataframe thead th {\n",
       "        text-align: right;\n",
       "    }\n",
       "</style>\n",
       "<table border=\"1\" class=\"dataframe\">\n",
       "  <thead>\n",
       "    <tr style=\"text-align: right;\">\n",
       "      <th></th>\n",
       "      <th>Headline</th>\n",
       "      <th>Date</th>\n",
       "      <th>Time</th>\n",
       "      <th>Score</th>\n",
       "    </tr>\n",
       "  </thead>\n",
       "  <tbody>\n",
       "    <tr>\n",
       "      <th>0</th>\n",
       "      <td>These are the stocks Covid-19 is impacting the...</td>\n",
       "      <td>November 10, 2021</td>\n",
       "      <td>06:00 PM</td>\n",
       "      <td>0.0</td>\n",
       "    </tr>\n",
       "    <tr>\n",
       "      <th>1</th>\n",
       "      <td>Rivian is America's biggest IPO since Facebook</td>\n",
       "      <td>November 10, 2021</td>\n",
       "      <td>4:20 PM</td>\n",
       "      <td>0.0</td>\n",
       "    </tr>\n",
       "    <tr>\n",
       "      <th>2</th>\n",
       "      <td>Move over, bitcoin. Ether is back and nipping ...</td>\n",
       "      <td>November 10, 2021</td>\n",
       "      <td>1:10 PM</td>\n",
       "      <td>0.0</td>\n",
       "    </tr>\n",
       "    <tr>\n",
       "      <th>3</th>\n",
       "      <td>This new ETF is betting against Cathie Wood an...</td>\n",
       "      <td>November 10, 2021</td>\n",
       "      <td>9:39 AM</td>\n",
       "      <td>0.0</td>\n",
       "    </tr>\n",
       "    <tr>\n",
       "      <th>4</th>\n",
       "      <td>Evergrande's billionaire founder has been bail...</td>\n",
       "      <td>November 10, 2021</td>\n",
       "      <td>2:26 AM</td>\n",
       "      <td>0.0</td>\n",
       "    </tr>\n",
       "    <tr>\n",
       "      <th>5</th>\n",
       "      <td>GE is splitting into three companies</td>\n",
       "      <td>November 9, 2021</td>\n",
       "      <td>3:24 PM</td>\n",
       "      <td>0.0</td>\n",
       "    </tr>\n",
       "  </tbody>\n",
       "</table>\n",
       "</div>"
      ],
      "text/plain": [
       "                                            Headline               Date  \\\n",
       "0  These are the stocks Covid-19 is impacting the...  November 10, 2021   \n",
       "1     Rivian is America's biggest IPO since Facebook  November 10, 2021   \n",
       "2  Move over, bitcoin. Ether is back and nipping ...  November 10, 2021   \n",
       "3  This new ETF is betting against Cathie Wood an...  November 10, 2021   \n",
       "4  Evergrande's billionaire founder has been bail...  November 10, 2021   \n",
       "5               GE is splitting into three companies   November 9, 2021   \n",
       "\n",
       "       Time  Score  \n",
       "0  06:00 PM    0.0  \n",
       "1   4:20 PM    0.0  \n",
       "2   1:10 PM    0.0  \n",
       "3   9:39 AM    0.0  \n",
       "4   2:26 AM    0.0  \n",
       "5   3:24 PM    0.0  "
      ]
     },
     "execution_count": 321,
     "metadata": {},
     "output_type": "execute_result"
    }
   ],
   "source": [
    "parsed_stocks['Score'] = pd.DataFrame(results)['compound']\n",
    "parsed_stocks"
   ]
  },
  {
   "cell_type": "code",
   "execution_count": 328,
   "metadata": {},
   "outputs": [
    {
     "data": {
      "text/html": [
       "<div>\n",
       "<style scoped>\n",
       "    .dataframe tbody tr th:only-of-type {\n",
       "        vertical-align: middle;\n",
       "    }\n",
       "\n",
       "    .dataframe tbody tr th {\n",
       "        vertical-align: top;\n",
       "    }\n",
       "\n",
       "    .dataframe thead th {\n",
       "        text-align: right;\n",
       "    }\n",
       "</style>\n",
       "<table border=\"1\" class=\"dataframe\">\n",
       "  <thead>\n",
       "    <tr style=\"text-align: right;\">\n",
       "      <th></th>\n",
       "      <th>Headline</th>\n",
       "      <th>Date</th>\n",
       "      <th>Time</th>\n",
       "      <th>Score</th>\n",
       "    </tr>\n",
       "  </thead>\n",
       "  <tbody>\n",
       "    <tr>\n",
       "      <th>0</th>\n",
       "      <td>These are the stocks Covid-19 is impacting the...</td>\n",
       "      <td>2021-11-10</td>\n",
       "      <td>06:00 PM</td>\n",
       "      <td>0.0</td>\n",
       "    </tr>\n",
       "    <tr>\n",
       "      <th>1</th>\n",
       "      <td>Rivian is America's biggest IPO since Facebook</td>\n",
       "      <td>2021-11-10</td>\n",
       "      <td>4:20 PM</td>\n",
       "      <td>0.0</td>\n",
       "    </tr>\n",
       "    <tr>\n",
       "      <th>2</th>\n",
       "      <td>Move over, bitcoin. Ether is back and nipping ...</td>\n",
       "      <td>2021-11-10</td>\n",
       "      <td>1:10 PM</td>\n",
       "      <td>0.0</td>\n",
       "    </tr>\n",
       "    <tr>\n",
       "      <th>3</th>\n",
       "      <td>This new ETF is betting against Cathie Wood an...</td>\n",
       "      <td>2021-11-10</td>\n",
       "      <td>9:39 AM</td>\n",
       "      <td>0.0</td>\n",
       "    </tr>\n",
       "    <tr>\n",
       "      <th>4</th>\n",
       "      <td>Evergrande's billionaire founder has been bail...</td>\n",
       "      <td>2021-11-10</td>\n",
       "      <td>2:26 AM</td>\n",
       "      <td>0.0</td>\n",
       "    </tr>\n",
       "    <tr>\n",
       "      <th>5</th>\n",
       "      <td>GE is splitting into three companies</td>\n",
       "      <td>2021-11-09</td>\n",
       "      <td>3:24 PM</td>\n",
       "      <td>0.0</td>\n",
       "    </tr>\n",
       "  </tbody>\n",
       "</table>\n",
       "</div>"
      ],
      "text/plain": [
       "                                            Headline        Date      Time  \\\n",
       "0  These are the stocks Covid-19 is impacting the...  2021-11-10  06:00 PM   \n",
       "1     Rivian is America's biggest IPO since Facebook  2021-11-10   4:20 PM   \n",
       "2  Move over, bitcoin. Ether is back and nipping ...  2021-11-10   1:10 PM   \n",
       "3  This new ETF is betting against Cathie Wood an...  2021-11-10   9:39 AM   \n",
       "4  Evergrande's billionaire founder has been bail...  2021-11-10   2:26 AM   \n",
       "5               GE is splitting into three companies  2021-11-09   3:24 PM   \n",
       "\n",
       "   Score  \n",
       "0    0.0  \n",
       "1    0.0  \n",
       "2    0.0  \n",
       "3    0.0  \n",
       "4    0.0  \n",
       "5    0.0  "
      ]
     },
     "execution_count": 328,
     "metadata": {},
     "output_type": "execute_result"
    }
   ],
   "source": [
    "parsed_stocks['Date'] = pd.to_datetime(parsed_stocks.Date).dt.date\n",
    "parsed_stocks"
   ]
  },
  {
   "cell_type": "code",
   "execution_count": 330,
   "metadata": {},
   "outputs": [
    {
     "data": {
      "text/plain": [
       "<matplotlib.collections.PathCollection at 0x121d0d280>"
      ]
     },
     "execution_count": 330,
     "metadata": {},
     "output_type": "execute_result"
    },
    {
     "data": {
      "image/png": "[encoded data removed]",
      "text/plain": [
       "<Figure size 720x432 with 1 Axes>"
      ]
     },
     "metadata": {
      "needs_background": "light"
     },
     "output_type": "display_data"
    }
   ],
   "source": [
    "plt.scatter(parsed_stocks['Date'], parsed_stocks['Score'])"
   ]
  },
  {
   "cell_type": "code",
   "execution_count": null,
   "metadata": {},
   "outputs": [],
   "source": []
  }
 ],
 "metadata": {
  "kernelspec": {
   "display_name": "Python 3",
   "language": "python",
   "name": "python3"
  },
  "language_info": {
   "codemirror_mode": {
    "name": "ipython",
    "version": 3
   },
   "file_extension": ".py",
   "mimetype": "text/x-python",
   "name": "python",
   "nbconvert_exporter": "python",
   "pygments_lexer": "ipython3",
   "version": "3.9.1"
  }
 },
 "nbformat": 4,
 "nbformat_minor": 4
}
